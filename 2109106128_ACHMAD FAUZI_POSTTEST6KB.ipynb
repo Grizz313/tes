{
 "cells": [
  {
   "cell_type": "markdown",
   "id": "5bfabe2d-8d4f-49c4-a112-a8565eaeaa60",
   "metadata": {},
   "source": [
    "# Posttest KB 6: Deep Neural Network (DNN)"
   ]
  },
  {
   "cell_type": "markdown",
   "id": "ffe8cbc9-e187-4593-8e05-08a869a5fcfe",
   "metadata": {},
   "source": [
    "* Import Library yang digunakan"
   ]
  },
  {
   "cell_type": "code",
   "execution_count": 70,
   "id": "bb649e5d-af40-46e0-8678-dcca403ea20e",
   "metadata": {},
   "outputs": [],
   "source": [
    "import pandas as pd\n",
    "import numpy as np\n",
    "from sklearn.model_selection import train_test_split\n",
    "from sklearn.preprocessing import StandardScaler, LabelEncoder\n",
    "from tensorflow import keras\n",
    "from tensorflow.keras import layers\n",
    "from tensorflow.keras.models import Sequential\n",
    "from tensorflow.keras.callbacks import EarlyStopping, ModelCheckpoint\n",
    "from sklearn.metrics import accuracy_score\n",
    "import matplotlib.pyplot as plt\n",
    "from tensorflow.keras.layers import Dense\n",
    "from sklearn.impute import SimpleImputer"
   ]
  },
  {
   "cell_type": "code",
   "execution_count": 71,
   "id": "ee8e0f5d-fcba-4fc6-9d9c-6373710e393c",
   "metadata": {},
   "outputs": [
    {
     "data": {
      "text/html": [
       "<div>\n",
       "<style scoped>\n",
       "    .dataframe tbody tr th:only-of-type {\n",
       "        vertical-align: middle;\n",
       "    }\n",
       "\n",
       "    .dataframe tbody tr th {\n",
       "        vertical-align: top;\n",
       "    }\n",
       "\n",
       "    .dataframe thead th {\n",
       "        text-align: right;\n",
       "    }\n",
       "</style>\n",
       "<table border=\"1\" class=\"dataframe\">\n",
       "  <thead>\n",
       "    <tr style=\"text-align: right;\">\n",
       "      <th></th>\n",
       "      <th>name</th>\n",
       "      <th>year</th>\n",
       "      <th>selling_price</th>\n",
       "      <th>km_driven</th>\n",
       "      <th>fuel</th>\n",
       "      <th>seller_type</th>\n",
       "      <th>transmission</th>\n",
       "      <th>owner</th>\n",
       "    </tr>\n",
       "  </thead>\n",
       "  <tbody>\n",
       "    <tr>\n",
       "      <th>0</th>\n",
       "      <td>Maruti 800 AC</td>\n",
       "      <td>2007</td>\n",
       "      <td>60000</td>\n",
       "      <td>70000</td>\n",
       "      <td>Petrol</td>\n",
       "      <td>Individual</td>\n",
       "      <td>Manual</td>\n",
       "      <td>First Owner</td>\n",
       "    </tr>\n",
       "    <tr>\n",
       "      <th>1</th>\n",
       "      <td>Maruti Wagon R LXI Minor</td>\n",
       "      <td>2007</td>\n",
       "      <td>135000</td>\n",
       "      <td>50000</td>\n",
       "      <td>Petrol</td>\n",
       "      <td>Individual</td>\n",
       "      <td>Manual</td>\n",
       "      <td>First Owner</td>\n",
       "    </tr>\n",
       "    <tr>\n",
       "      <th>2</th>\n",
       "      <td>Hyundai Verna 1.6 SX</td>\n",
       "      <td>2012</td>\n",
       "      <td>600000</td>\n",
       "      <td>100000</td>\n",
       "      <td>Diesel</td>\n",
       "      <td>Individual</td>\n",
       "      <td>Manual</td>\n",
       "      <td>First Owner</td>\n",
       "    </tr>\n",
       "    <tr>\n",
       "      <th>3</th>\n",
       "      <td>Datsun RediGO T Option</td>\n",
       "      <td>2017</td>\n",
       "      <td>250000</td>\n",
       "      <td>46000</td>\n",
       "      <td>Petrol</td>\n",
       "      <td>Individual</td>\n",
       "      <td>Manual</td>\n",
       "      <td>First Owner</td>\n",
       "    </tr>\n",
       "    <tr>\n",
       "      <th>4</th>\n",
       "      <td>Honda Amaze VX i-DTEC</td>\n",
       "      <td>2014</td>\n",
       "      <td>450000</td>\n",
       "      <td>141000</td>\n",
       "      <td>Diesel</td>\n",
       "      <td>Individual</td>\n",
       "      <td>Manual</td>\n",
       "      <td>Second Owner</td>\n",
       "    </tr>\n",
       "    <tr>\n",
       "      <th>...</th>\n",
       "      <td>...</td>\n",
       "      <td>...</td>\n",
       "      <td>...</td>\n",
       "      <td>...</td>\n",
       "      <td>...</td>\n",
       "      <td>...</td>\n",
       "      <td>...</td>\n",
       "      <td>...</td>\n",
       "    </tr>\n",
       "    <tr>\n",
       "      <th>4335</th>\n",
       "      <td>Hyundai i20 Magna 1.4 CRDi (Diesel)</td>\n",
       "      <td>2014</td>\n",
       "      <td>409999</td>\n",
       "      <td>80000</td>\n",
       "      <td>Diesel</td>\n",
       "      <td>Individual</td>\n",
       "      <td>Manual</td>\n",
       "      <td>Second Owner</td>\n",
       "    </tr>\n",
       "    <tr>\n",
       "      <th>4336</th>\n",
       "      <td>Hyundai i20 Magna 1.4 CRDi</td>\n",
       "      <td>2014</td>\n",
       "      <td>409999</td>\n",
       "      <td>80000</td>\n",
       "      <td>Diesel</td>\n",
       "      <td>Individual</td>\n",
       "      <td>Manual</td>\n",
       "      <td>Second Owner</td>\n",
       "    </tr>\n",
       "    <tr>\n",
       "      <th>4337</th>\n",
       "      <td>Maruti 800 AC BSIII</td>\n",
       "      <td>2009</td>\n",
       "      <td>110000</td>\n",
       "      <td>83000</td>\n",
       "      <td>Petrol</td>\n",
       "      <td>Individual</td>\n",
       "      <td>Manual</td>\n",
       "      <td>Second Owner</td>\n",
       "    </tr>\n",
       "    <tr>\n",
       "      <th>4338</th>\n",
       "      <td>Hyundai Creta 1.6 CRDi SX Option</td>\n",
       "      <td>2016</td>\n",
       "      <td>865000</td>\n",
       "      <td>90000</td>\n",
       "      <td>Diesel</td>\n",
       "      <td>Individual</td>\n",
       "      <td>Manual</td>\n",
       "      <td>First Owner</td>\n",
       "    </tr>\n",
       "    <tr>\n",
       "      <th>4339</th>\n",
       "      <td>Renault KWID RXT</td>\n",
       "      <td>2016</td>\n",
       "      <td>225000</td>\n",
       "      <td>40000</td>\n",
       "      <td>Petrol</td>\n",
       "      <td>Individual</td>\n",
       "      <td>Manual</td>\n",
       "      <td>First Owner</td>\n",
       "    </tr>\n",
       "  </tbody>\n",
       "</table>\n",
       "<p>4340 rows × 8 columns</p>\n",
       "</div>"
      ],
      "text/plain": [
       "                                     name  year  selling_price  km_driven  \\\n",
       "0                           Maruti 800 AC  2007          60000      70000   \n",
       "1                Maruti Wagon R LXI Minor  2007         135000      50000   \n",
       "2                    Hyundai Verna 1.6 SX  2012         600000     100000   \n",
       "3                  Datsun RediGO T Option  2017         250000      46000   \n",
       "4                   Honda Amaze VX i-DTEC  2014         450000     141000   \n",
       "...                                   ...   ...            ...        ...   \n",
       "4335  Hyundai i20 Magna 1.4 CRDi (Diesel)  2014         409999      80000   \n",
       "4336           Hyundai i20 Magna 1.4 CRDi  2014         409999      80000   \n",
       "4337                  Maruti 800 AC BSIII  2009         110000      83000   \n",
       "4338     Hyundai Creta 1.6 CRDi SX Option  2016         865000      90000   \n",
       "4339                     Renault KWID RXT  2016         225000      40000   \n",
       "\n",
       "        fuel seller_type transmission         owner  \n",
       "0     Petrol  Individual       Manual   First Owner  \n",
       "1     Petrol  Individual       Manual   First Owner  \n",
       "2     Diesel  Individual       Manual   First Owner  \n",
       "3     Petrol  Individual       Manual   First Owner  \n",
       "4     Diesel  Individual       Manual  Second Owner  \n",
       "...      ...         ...          ...           ...  \n",
       "4335  Diesel  Individual       Manual  Second Owner  \n",
       "4336  Diesel  Individual       Manual  Second Owner  \n",
       "4337  Petrol  Individual       Manual  Second Owner  \n",
       "4338  Diesel  Individual       Manual   First Owner  \n",
       "4339  Petrol  Individual       Manual   First Owner  \n",
       "\n",
       "[4340 rows x 8 columns]"
      ]
     },
     "execution_count": 71,
     "metadata": {},
     "output_type": "execute_result"
    }
   ],
   "source": [
    "data = pd.read_csv('Forbes Top2000 2017.csv')\n",
    "data"
   ]
  },
  {
   "cell_type": "code",
   "execution_count": 72,
   "id": "fe052aae-cac8-4d79-8aea-2044ff660b0c",
   "metadata": {},
   "outputs": [
    {
     "name": "stdout",
     "output_type": "stream",
     "text": [
      "<class 'pandas.core.frame.DataFrame'>\n",
      "RangeIndex: 4340 entries, 0 to 4339\n",
      "Data columns (total 8 columns):\n",
      " #   Column         Non-Null Count  Dtype \n",
      "---  ------         --------------  ----- \n",
      " 0   name           4340 non-null   object\n",
      " 1   year           4340 non-null   int64 \n",
      " 2   selling_price  4340 non-null   int64 \n",
      " 3   km_driven      4340 non-null   int64 \n",
      " 4   fuel           4340 non-null   object\n",
      " 5   seller_type    4340 non-null   object\n",
      " 6   transmission   4340 non-null   object\n",
      " 7   owner          4340 non-null   object\n",
      "dtypes: int64(3), object(5)\n",
      "memory usage: 271.4+ KB\n"
     ]
    }
   ],
   "source": [
    "data.info()"
   ]
  },
  {
   "cell_type": "markdown",
   "id": "ebdb7f8f-b649-4e03-b388-520bc9a5b5ea",
   "metadata": {},
   "source": [
    "# Preprocessing dataset"
   ]
  },
  {
   "cell_type": "markdown",
   "id": "3f16eeb4-2d81-4d35-8250-6226bb18ddd0",
   "metadata": {},
   "source": [
    "* Melihat apakah ada data null atau duplikat"
   ]
  },
  {
   "cell_type": "code",
   "execution_count": 73,
   "id": "5bebb844-ad76-4ea4-89a8-a8100720b156",
   "metadata": {},
   "outputs": [
    {
     "data": {
      "text/plain": [
       "name             0\n",
       "year             0\n",
       "selling_price    0\n",
       "km_driven        0\n",
       "fuel             0\n",
       "seller_type      0\n",
       "transmission     0\n",
       "owner            0\n",
       "dtype: int64"
      ]
     },
     "execution_count": 73,
     "metadata": {},
     "output_type": "execute_result"
    }
   ],
   "source": [
    "data.isna().sum()"
   ]
  },
  {
   "cell_type": "code",
   "execution_count": 74,
   "id": "8de8a7f3-2d79-481f-849d-887a734c4786",
   "metadata": {},
   "outputs": [],
   "source": [
    "data = pd.read_csv('Forbes Top2000 2017.csv')\n",
    "\n",
    "print(data.columns)\n",
    "\n",
    "print(data['Sector'].dtype)\n",
    "print(data['Industry'].dtype)\n",
    "\n",
    "simpleImputerObjek = SimpleImputer(strategy='most_frequent')\n",
    "data.loc[:, 'Sector'] = simpleImputerObjek.fit_transform(data[['Sector']])\n",
    "data.loc[:, 'Industry'] = simpleImputerObjek.fit_transform(data[['Industry']])\n",
    "\n",
    "print(data.isnull().sum())\n"
   ]
  },
  {
   "cell_type": "markdown",
   "id": "13a2103d-2083-4265-8844-9aebde56aafb",
   "metadata": {},
   "source": [
    "* Mengubah Nilai Target Dengan Encoding"
   ]
  },
  {
   "cell_type": "code",
   "execution_count": 75,
   "id": "c0c202be-6a2d-498b-a5d1-56df33b23885",
   "metadata": {},
   "outputs": [],
   "source": [
    "X = data.drop('selling_price', axis=1) \n",
    "y = data['selling_price']"
   ]
  },
  {
   "cell_type": "code",
   "execution_count": 76,
   "id": "6d250d4f-1fef-4f67-bf4b-4c3a83b2e518",
   "metadata": {},
   "outputs": [],
   "source": [
    "label = LabelEncoder()\n",
    "y = label.fit_transform(y)"
   ]
  },
  {
   "cell_type": "code",
   "execution_count": 77,
   "id": "a8d416ee-a085-47e3-8bd6-36578c899a49",
   "metadata": {},
   "outputs": [],
   "source": [
    "# Memilih atribut yang dianggap memengaruhi hasil prediksi\n",
    "selected_features = ['year', 'km_driven']\n",
    "X = data[selected_features]\n",
    "y = data['selling_price']"
   ]
  },
  {
   "cell_type": "markdown",
   "id": "efc22c23-b8b4-4355-8a94-1b8fe0ae3cca",
   "metadata": {},
   "source": [
    "* Menerapkan One-Hot Encoding menggunakan get_dummies dari Pandas"
   ]
  },
  {
   "cell_type": "code",
   "execution_count": 78,
   "id": "5386e159-d471-4627-8c26-ec646dba9d94",
   "metadata": {},
   "outputs": [
    {
     "name": "stdout",
     "output_type": "stream",
     "text": [
      "KeyError: \"None of [Index(['name', 'fuel', 'seller_type', 'transmission', 'owner'], dtype='object')] are in the [columns]\"\n",
      "Error Details: \"None of [Index(['name', 'fuel', 'seller_type', 'transmission', 'owner'], dtype='object')] are in the [columns]\"\n"
     ]
    }
   ],
   "source": [
    "try:\n",
    "    X = pd.get_dummies(X, columns=['name', 'fuel', 'seller_type', 'transmission', 'owner'], drop_first=True)\n",
    "except KeyError as e:\n",
    "    print(\"KeyError:\", e)\n",
    "    print(\"Error Details:\", str(e))"
   ]
  },
  {
   "cell_type": "markdown",
   "id": "731b97e1-0dc0-41b0-99f1-46f19b769202",
   "metadata": {},
   "source": [
    "* Standarisasi"
   ]
  },
  {
   "cell_type": "code",
   "execution_count": 79,
   "id": "f5a57502-fb6c-4855-95e1-f491b178bd69",
   "metadata": {},
   "outputs": [
    {
     "name": "stdout",
     "output_type": "stream",
     "text": [
      "Nilai standarisasi sebelum dilakukan scaling: \n"
     ]
    },
    {
     "name": "stderr",
     "output_type": "stream",
     "text": [
      "C:\\Users\\Asus\\AppData\\Local\\Programs\\Python\\Python310\\lib\\site-packages\\numpy\\core\\fromnumeric.py:3643: FutureWarning: The default value of numeric_only in DataFrame.std is deprecated. In a future version, it will default to False. In addition, specifying 'numeric_only=None' is deprecated. Select only valid columns or specify the value of numeric_only to silence this warning.\n",
      "  return std(axis=axis, dtype=dtype, out=out, ddof=ddof, **kwargs)\n"
     ]
    },
    {
     "data": {
      "text/plain": [
       "year                  4.214858\n",
       "selling_price    578482.079219\n",
       "km_driven         46638.728140\n",
       "dtype: float64"
      ]
     },
     "execution_count": 79,
     "metadata": {},
     "output_type": "execute_result"
    }
   ],
   "source": [
    "print('Nilai standarisasi sebelum dilakukan scaling: ')\n",
    "std = data.std(numeric_only=True)\n",
    "np.std(data)"
   ]
  },
  {
   "cell_type": "code",
   "execution_count": 80,
   "id": "4c430fd5-5bda-4c6f-8f55-c30f3fc29ed7",
   "metadata": {},
   "outputs": [],
   "source": [
    "standard_scaler = StandardScaler()\n",
    "x_standard = standard_scaler.fit_transform(\n",
    "    data[['year', 'km_driven', 'selling_price']]\n",
    ")"
   ]
  },
  {
   "cell_type": "code",
   "execution_count": 81,
   "id": "238ffd58-ea09-44b3-b454-17a6793fd5d6",
   "metadata": {},
   "outputs": [
    {
     "name": "stdout",
     "output_type": "stream",
     "text": [
      "Nilai sesudah dilakukan scalling: \n"
     ]
    },
    {
     "data": {
      "text/plain": [
       "1.0"
      ]
     },
     "execution_count": 81,
     "metadata": {},
     "output_type": "execute_result"
    }
   ],
   "source": [
    "print('Nilai sesudah dilakukan scalling: ')\n",
    "np.std(x_standard)"
   ]
  },
  {
   "cell_type": "markdown",
   "id": "c3fce6e1-28e2-4f39-b482-5b2da9cc45e6",
   "metadata": {},
   "source": [
    "# Split dataset menjadi train dan test"
   ]
  },
  {
   "cell_type": "code",
   "execution_count": 82,
   "id": "3198ea05-a355-48f1-a139-fc9e9e3d35f9",
   "metadata": {},
   "outputs": [],
   "source": [
    "x_train, x_test, y_train, y_test = train_test_split(X, y, test_size = 0.15, random_state=42)"
   ]
  },
  {
   "cell_type": "markdown",
   "id": "f414be7f-553f-449d-9b4e-70d1bd08b1ac",
   "metadata": {},
   "source": [
    "# Model sequential"
   ]
  },
  {
   "cell_type": "code",
   "execution_count": 83,
   "id": "e8dc599d-15da-4825-9067-07414182abc3",
   "metadata": {},
   "outputs": [
    {
     "name": "stdout",
     "output_type": "stream",
     "text": [
      "Model: \"sequential_7\"\n",
      "_________________________________________________________________\n",
      " Layer (type)                Output Shape              Param #   \n",
      "=================================================================\n",
      " dense_21 (Dense)            (None, 128)               384       \n",
      "                                                                 \n",
      " dense_22 (Dense)            (None, 32)                4128      \n",
      "                                                                 \n",
      " dense_23 (Dense)            (None, 1)                 33        \n",
      "                                                                 \n",
      "=================================================================\n",
      "Total params: 4545 (17.75 KB)\n",
      "Trainable params: 4545 (17.75 KB)\n",
      "Non-trainable params: 0 (0.00 Byte)\n",
      "_________________________________________________________________\n"
     ]
    }
   ],
   "source": [
    "model = Sequential([\n",
    "    Dense(units=64, activation='relu',input_shape=(None,1)), #Output Layer Wajib units\n",
    "    Dense(units=32, activation='relu'),\n",
    "    Dense(units=1, activation='sigmoid')\n",
    "])\n",
    "\n",
    "model.summary()"
   ]
  },
  {
   "cell_type": "markdown",
   "id": "126b5d21-ffcd-417d-8854-fc42a35f264e",
   "metadata": {},
   "source": [
    "# Model Training\n",
    "\n",
    "__Model Compile__"
   ]
  },
  {
   "cell_type": "code",
   "execution_count": 92,
   "id": "576947bd-02f3-4f7f-a29d-1155a888d13f",
   "metadata": {},
   "outputs": [],
   "source": [
    "model.compile(\n",
    "    optimizer = 'adam',\n",
    "    loss = 'binary_crossentropy',\n",
    "    metrics=['accuracy']\n",
    ")"
   ]
  },
  {
   "cell_type": "markdown",
   "id": "1d8934d6-2cf8-456d-b459-ff840bdf15f7",
   "metadata": {},
   "source": [
    "__Call Back__"
   ]
  },
  {
   "cell_type": "markdown",
   "id": "f9879a40-eb8c-407d-a846-c6f7d9124486",
   "metadata": {},
   "source": [
    "* Callback untuk menghentikan pelatihan jika tidak ada perbaikan pada validation loss"
   ]
  },
  {
   "cell_type": "code",
   "execution_count": 93,
   "id": "6ac6c1e5-fb82-42d3-a6f2-7af4d174eb48",
   "metadata": {},
   "outputs": [],
   "source": [
    "stop = EarlyStopping(monitor='val_loss', patience=10, restore_best_weights=True)"
   ]
  },
  {
   "cell_type": "markdown",
   "id": "55dceb48-1ee0-45a9-ba41-2eb24fd5612e",
   "metadata": {},
   "source": [
    "* Callback untuk menyimpan model terbaik berdasarkan validation loss"
   ]
  },
  {
   "cell_type": "code",
   "execution_count": 94,
   "id": "6ff0ec5a-7f9e-4d42-8461-abd4b76518e7",
   "metadata": {},
   "outputs": [],
   "source": [
    "check = ModelCheckpoint('best_model.h5', save_best_only=True)"
   ]
  },
  {
   "cell_type": "markdown",
   "id": "c7cd4c8a-4500-4550-9fc4-070f7c32530e",
   "metadata": {},
   "source": [
    "__Model Fit__"
   ]
  },
  {
   "cell_type": "code",
   "execution_count": 95,
   "id": "2754421b-a7e3-438b-83dc-bfa21626b05e",
   "metadata": {},
   "outputs": [
    {
     "name": "stdout",
     "output_type": "stream",
     "text": [
      "Epoch 1/100\n",
      "58/58 [==============================] - 2s 21ms/step - loss: 331383767040.0000 - mean_absolute_error: 319367.9688 - mean_absolute_percentage_error: 115.2386 - mae: 319367.9688 - mape: 115.2386 - mean_squared_error: 331383767040.0000 - mse: 331383767040.0000 - val_loss: 312768004096.0000 - val_mean_absolute_error: 318123.7188 - val_mean_absolute_percentage_error: 120.2865 - val_mae: 318123.7188 - val_mape: 120.2865 - val_mean_squared_error: 312768004096.0000 - val_mse: 312768004096.0000\n",
      "Epoch 2/100\n",
      "23/58 [==========>...................] - ETA: 0s - loss: 233028550656.0000 - mean_absolute_error: 293772.6250 - mean_absolute_percentage_error: 111.5701 - mae: 293772.6250 - mape: 111.5701 - mean_squared_error: 233028550656.0000 - mse: 233028550656.0000"
     ]
    },
    {
     "name": "stderr",
     "output_type": "stream",
     "text": [
      "C:\\Users\\Asus\\AppData\\Local\\Programs\\Python\\Python310\\lib\\site-packages\\keras\\src\\engine\\training.py:3079: UserWarning: You are saving your model as an HDF5 file via `model.save()`. This file format is considered legacy. We recommend using instead the native Keras format, e.g. `model.save('my_model.keras')`.\n",
      "  saving_api.save_model(\n"
     ]
    },
    {
     "name": "stdout",
     "output_type": "stream",
     "text": [
      "58/58 [==============================] - 0s 8ms/step - loss: 331435802624.0000 - mean_absolute_error: 317246.5312 - mean_absolute_percentage_error: 114.1007 - mae: 317246.5312 - mape: 114.1007 - mean_squared_error: 331435802624.0000 - mse: 331435802624.0000 - val_loss: 312309710848.0000 - val_mean_absolute_error: 312383.1562 - val_mean_absolute_percentage_error: 114.1897 - val_mae: 312383.1562 - val_mape: 114.1897 - val_mean_squared_error: 312309710848.0000 - val_mse: 312309710848.0000\n",
      "Epoch 3/100\n",
      "58/58 [==============================] - 0s 8ms/step - loss: 331315773440.0000 - mean_absolute_error: 319662.7812 - mean_absolute_percentage_error: 115.0284 - mae: 319662.7812 - mape: 115.0284 - mean_squared_error: 331315773440.0000 - mse: 331315773440.0000 - val_loss: 312332025856.0000 - val_mean_absolute_error: 310946.7500 - val_mean_absolute_percentage_error: 112.3611 - val_mae: 310946.7500 - val_mape: 112.3611 - val_mean_squared_error: 312332025856.0000 - val_mse: 312332025856.0000\n",
      "Epoch 4/100\n",
      "58/58 [==============================] - 0s 9ms/step - loss: 330984292352.0000 - mean_absolute_error: 317764.0000 - mean_absolute_percentage_error: 114.3413 - mae: 317764.0000 - mape: 114.3413 - mean_squared_error: 330984292352.0000 - mse: 330984292352.0000 - val_loss: 312525881344.0000 - val_mean_absolute_error: 307960.5000 - val_mean_absolute_percentage_error: 109.0353 - val_mae: 307960.5000 - val_mape: 109.0353 - val_mean_squared_error: 312525881344.0000 - val_mse: 312525881344.0000\n",
      "Epoch 5/100\n",
      "58/58 [==============================] - 0s 5ms/step - loss: 330907680768.0000 - mean_absolute_error: 320179.3125 - mean_absolute_percentage_error: 116.4377 - mae: 320179.3125 - mape: 116.4377 - mean_squared_error: 330907680768.0000 - mse: 330907680768.0000 - val_loss: 312351293440.0000 - val_mean_absolute_error: 311504.5000 - val_mean_absolute_percentage_error: 112.7571 - val_mae: 311504.5000 - val_mape: 112.7571 - val_mean_squared_error: 312351293440.0000 - val_mse: 312351293440.0000\n",
      "Epoch 6/100\n",
      "58/58 [==============================] - 0s 5ms/step - loss: 330952900608.0000 - mean_absolute_error: 317932.1875 - mean_absolute_percentage_error: 114.1360 - mae: 317932.1875 - mape: 114.1360 - mean_squared_error: 330952900608.0000 - mse: 330952900608.0000 - val_loss: 312346968064.0000 - val_mean_absolute_error: 309733.0000 - val_mean_absolute_percentage_error: 111.2121 - val_mae: 309733.0000 - val_mape: 111.2121 - val_mean_squared_error: 312346968064.0000 - val_mse: 312346968064.0000\n",
      "Epoch 7/100\n",
      "58/58 [==============================] - 0s 6ms/step - loss: 331122966528.0000 - mean_absolute_error: 319429.1250 - mean_absolute_percentage_error: 115.3997 - mae: 319429.1250 - mape: 115.3997 - mean_squared_error: 331122966528.0000 - mse: 331122966528.0000 - val_loss: 312418959360.0000 - val_mean_absolute_error: 315166.4688 - val_mean_absolute_percentage_error: 117.2051 - val_mae: 315166.4688 - val_mape: 117.2051 - val_mean_squared_error: 312418959360.0000 - val_mse: 312418959360.0000\n",
      "Epoch 8/100\n",
      "58/58 [==============================] - 0s 6ms/step - loss: 330706092032.0000 - mean_absolute_error: 318385.6250 - mean_absolute_percentage_error: 114.2501 - mae: 318385.6250 - mape: 114.2501 - mean_squared_error: 330706092032.0000 - mse: 330706092032.0000 - val_loss: 312359976960.0000 - val_mean_absolute_error: 314311.0000 - val_mean_absolute_percentage_error: 116.3654 - val_mae: 314311.0000 - val_mape: 116.3654 - val_mean_squared_error: 312359976960.0000 - val_mse: 312359976960.0000\n",
      "Epoch 9/100\n",
      "58/58 [==============================] - 0s 5ms/step - loss: 330826711040.0000 - mean_absolute_error: 319679.1562 - mean_absolute_percentage_error: 116.0520 - mae: 319679.1562 - mape: 116.0520 - mean_squared_error: 330826711040.0000 - mse: 330826711040.0000 - val_loss: 313269321728.0000 - val_mean_absolute_error: 303328.3750 - val_mean_absolute_percentage_error: 103.9651 - val_mae: 303328.3750 - val_mape: 103.9651 - val_mean_squared_error: 313269321728.0000 - val_mse: 313269321728.0000\n",
      "Epoch 10/100\n",
      "58/58 [==============================] - 0s 5ms/step - loss: 330730930176.0000 - mean_absolute_error: 317847.9062 - mean_absolute_percentage_error: 114.2869 - mae: 317847.9062 - mape: 114.2869 - mean_squared_error: 330730930176.0000 - mse: 330730930176.0000 - val_loss: 314127319040.0000 - val_mean_absolute_error: 301727.0625 - val_mean_absolute_percentage_error: 101.0550 - val_mae: 301727.0625 - val_mape: 101.0550 - val_mean_squared_error: 314127319040.0000 - val_mse: 314127319040.0000\n",
      "Epoch 11/100\n",
      "58/58 [==============================] - 0s 6ms/step - loss: 330892836864.0000 - mean_absolute_error: 317608.3438 - mean_absolute_percentage_error: 113.5722 - mae: 317608.3438 - mape: 113.5722 - mean_squared_error: 330892836864.0000 - mse: 330892836864.0000 - val_loss: 312287723520.0000 - val_mean_absolute_error: 312855.9688 - val_mean_absolute_percentage_error: 114.9473 - val_mae: 312855.9688 - val_mape: 114.9473 - val_mean_squared_error: 312287723520.0000 - val_mse: 312287723520.0000\n",
      "Epoch 12/100\n",
      "58/58 [==============================] - 0s 6ms/step - loss: 330917871616.0000 - mean_absolute_error: 317472.3750 - mean_absolute_percentage_error: 114.2466 - mae: 317472.3750 - mape: 114.2466 - mean_squared_error: 330917871616.0000 - mse: 330917871616.0000 - val_loss: 314297286656.0000 - val_mean_absolute_error: 325599.7500 - val_mean_absolute_percentage_error: 127.4271 - val_mae: 325599.7500 - val_mape: 127.4271 - val_mean_squared_error: 314297286656.0000 - val_mse: 314297286656.0000\n",
      "Epoch 13/100\n",
      "58/58 [==============================] - 0s 6ms/step - loss: 330918789120.0000 - mean_absolute_error: 318776.0000 - mean_absolute_percentage_error: 114.3536 - mae: 318776.0000 - mape: 114.3536 - mean_squared_error: 330918789120.0000 - mse: 330918789120.0000 - val_loss: 314973585408.0000 - val_mean_absolute_error: 328030.2500 - val_mean_absolute_percentage_error: 129.5284 - val_mae: 328030.2500 - val_mape: 129.5284 - val_mean_squared_error: 314973585408.0000 - val_mse: 314973585408.0000\n",
      "Epoch 14/100\n",
      "58/58 [==============================] - 0s 6ms/step - loss: 331179491328.0000 - mean_absolute_error: 319310.9375 - mean_absolute_percentage_error: 115.7749 - mae: 319310.9375 - mape: 115.7749 - mean_squared_error: 331179491328.0000 - mse: 331179491328.0000 - val_loss: 312361779200.0000 - val_mean_absolute_error: 314337.0312 - val_mean_absolute_percentage_error: 116.1590 - val_mae: 314337.0312 - val_mape: 116.1590 - val_mean_squared_error: 312361779200.0000 - val_mse: 312361779200.0000\n",
      "Epoch 15/100\n",
      "58/58 [==============================] - 0s 5ms/step - loss: 331015258112.0000 - mean_absolute_error: 319558.3125 - mean_absolute_percentage_error: 115.7816 - mae: 319558.3125 - mape: 115.7816 - mean_squared_error: 331015258112.0000 - mse: 331015258112.0000 - val_loss: 312302370816.0000 - val_mean_absolute_error: 309311.0625 - val_mean_absolute_percentage_error: 111.1849 - val_mae: 309311.0625 - val_mape: 111.1849 - val_mean_squared_error: 312302370816.0000 - val_mse: 312302370816.0000\n",
      "Epoch 16/100\n",
      "58/58 [==============================] - 0s 5ms/step - loss: 331333009408.0000 - mean_absolute_error: 319163.2188 - mean_absolute_percentage_error: 114.5903 - mae: 319163.2188 - mape: 114.5903 - mean_squared_error: 331333009408.0000 - mse: 331333009408.0000 - val_loss: 312278712320.0000 - val_mean_absolute_error: 311729.8438 - val_mean_absolute_percentage_error: 113.9312 - val_mae: 311729.8438 - val_mape: 113.9312 - val_mean_squared_error: 312278712320.0000 - val_mse: 312278712320.0000\n",
      "Epoch 17/100\n",
      "58/58 [==============================] - 0s 5ms/step - loss: 330924818432.0000 - mean_absolute_error: 316992.5938 - mean_absolute_percentage_error: 114.1798 - mae: 316992.5938 - mape: 114.1798 - mean_squared_error: 330924818432.0000 - mse: 330924818432.0000 - val_loss: 312445927424.0000 - val_mean_absolute_error: 315148.7500 - val_mean_absolute_percentage_error: 117.3669 - val_mae: 315148.7500 - val_mape: 117.3669 - val_mean_squared_error: 312445927424.0000 - val_mse: 312445927424.0000\n",
      "Epoch 18/100\n",
      "58/58 [==============================] - 0s 5ms/step - loss: 330732994560.0000 - mean_absolute_error: 316016.3438 - mean_absolute_percentage_error: 112.2917 - mae: 316016.3438 - mape: 112.2917 - mean_squared_error: 330732994560.0000 - mse: 330732994560.0000 - val_loss: 312873844736.0000 - val_mean_absolute_error: 319246.3125 - val_mean_absolute_percentage_error: 121.1442 - val_mae: 319246.3125 - val_mape: 121.1442 - val_mean_squared_error: 312873844736.0000 - val_mse: 312873844736.0000\n",
      "Epoch 19/100\n",
      "58/58 [==============================] - 0s 6ms/step - loss: 331556618240.0000 - mean_absolute_error: 320114.8750 - mean_absolute_percentage_error: 115.7449 - mae: 320114.8750 - mape: 115.7449 - mean_squared_error: 331556618240.0000 - mse: 331556618240.0000 - val_loss: 316308062208.0000 - val_mean_absolute_error: 332560.0938 - val_mean_absolute_percentage_error: 133.4299 - val_mae: 332560.0938 - val_mape: 133.4299 - val_mean_squared_error: 316308062208.0000 - val_mse: 316308062208.0000\n",
      "Epoch 20/100\n",
      "58/58 [==============================] - 0s 5ms/step - loss: 331182735360.0000 - mean_absolute_error: 321453.7812 - mean_absolute_percentage_error: 117.0725 - mae: 321453.7812 - mape: 117.0725 - mean_squared_error: 331182735360.0000 - mse: 331182735360.0000 - val_loss: 312784551936.0000 - val_mean_absolute_error: 317714.3125 - val_mean_absolute_percentage_error: 120.1744 - val_mae: 317714.3125 - val_mape: 120.1744 - val_mean_squared_error: 312784551936.0000 - val_mse: 312784551936.0000\n",
      "Epoch 21/100\n",
      "58/58 [==============================] - 0s 5ms/step - loss: 331184242688.0000 - mean_absolute_error: 317530.6562 - mean_absolute_percentage_error: 113.1291 - mae: 317530.6562 - mape: 113.1291 - mean_squared_error: 331184242688.0000 - mse: 331184242688.0000 - val_loss: 313456984064.0000 - val_mean_absolute_error: 322496.4688 - val_mean_absolute_percentage_error: 124.2830 - val_mae: 322496.4688 - val_mape: 124.2830 - val_mean_squared_error: 313456984064.0000 - val_mse: 313456984064.0000\n",
      "Epoch 22/100\n",
      "58/58 [==============================] - 0s 5ms/step - loss: 330674634752.0000 - mean_absolute_error: 319333.3750 - mean_absolute_percentage_error: 115.3893 - mae: 319333.3750 - mape: 115.3893 - mean_squared_error: 330674634752.0000 - mse: 330674634752.0000 - val_loss: 312603443200.0000 - val_mean_absolute_error: 316355.8750 - val_mean_absolute_percentage_error: 118.8507 - val_mae: 316355.8750 - val_mape: 118.8507 - val_mean_squared_error: 312603443200.0000 - val_mse: 312603443200.0000\n",
      "Epoch 23/100\n",
      "58/58 [==============================] - 0s 5ms/step - loss: 330873143296.0000 - mean_absolute_error: 318902.0625 - mean_absolute_percentage_error: 115.4383 - mae: 318902.0625 - mape: 115.4383 - mean_squared_error: 330873143296.0000 - mse: 330873143296.0000 - val_loss: 312338120704.0000 - val_mean_absolute_error: 308470.1875 - val_mean_absolute_percentage_error: 110.4485 - val_mae: 308470.1875 - val_mape: 110.4485 - val_mean_squared_error: 312338120704.0000 - val_mse: 312338120704.0000\n",
      "Epoch 24/100\n",
      "58/58 [==============================] - 0s 6ms/step - loss: 330598940672.0000 - mean_absolute_error: 319115.8438 - mean_absolute_percentage_error: 115.6287 - mae: 319115.8438 - mape: 115.6287 - mean_squared_error: 330598940672.0000 - mse: 330598940672.0000 - val_loss: 313298714624.0000 - val_mean_absolute_error: 303494.0312 - val_mean_absolute_percentage_error: 103.7973 - val_mae: 303494.0312 - val_mape: 103.7973 - val_mean_squared_error: 313298714624.0000 - val_mse: 313298714624.0000\n",
      "Epoch 25/100\n",
      "58/58 [==============================] - 0s 5ms/step - loss: 330785259520.0000 - mean_absolute_error: 316475.1250 - mean_absolute_percentage_error: 112.9592 - mae: 316475.1250 - mape: 112.9592 - mean_squared_error: 330785259520.0000 - mse: 330785259520.0000 - val_loss: 313710608384.0000 - val_mean_absolute_error: 323831.4375 - val_mean_absolute_percentage_error: 125.4207 - val_mae: 323831.4375 - val_mape: 125.4207 - val_mean_squared_error: 313710608384.0000 - val_mse: 313710608384.0000\n",
      "Epoch 26/100\n",
      "58/58 [==============================] - 0s 5ms/step - loss: 330805542912.0000 - mean_absolute_error: 318427.1562 - mean_absolute_percentage_error: 114.6847 - mae: 318427.1562 - mape: 114.6847 - mean_squared_error: 330805542912.0000 - mse: 330805542912.0000 - val_loss: 313342394368.0000 - val_mean_absolute_error: 321949.3438 - val_mean_absolute_percentage_error: 123.7630 - val_mae: 321949.3438 - val_mape: 123.7630 - val_mean_squared_error: 313342394368.0000 - val_mse: 313342394368.0000\n"
     ]
    },
    {
     "data": {
      "text/plain": [
       "<keras.src.callbacks.History at 0x1bed0861de0>"
      ]
     },
     "execution_count": 95,
     "metadata": {},
     "output_type": "execute_result"
    }
   ],
   "source": [
    "model.fit(\n",
    "    x = x_train,\n",
    "    y = y_train,\n",
    "    epochs=100, #100x Pembelajaran\n",
    "    validation_data = (X, y),\n",
    "    batch_size=64,\n",
    "    callbacks=[stop, check]\n",
    ")"
   ]
  },
  {
   "cell_type": "code",
   "execution_count": null,
   "id": "8b708ab8-1e41-4d12-9c0d-aa511e971918",
   "metadata": {},
   "outputs": [],
   "source": []
  }
 ],
 "metadata": {
  "kernelspec": {
   "display_name": "Fauzi_128",
   "language": "python",
   "name": "fauzi_128"
  },
  "language_info": {
   "codemirror_mode": {
    "name": "ipython",
    "version": 3
   },
   "file_extension": ".py",
   "mimetype": "text/x-python",
   "name": "python",
   "nbconvert_exporter": "python",
   "pygments_lexer": "ipython3",
   "version": "3.10.7"
  }
 },
 "nbformat": 4,
 "nbformat_minor": 5
}
